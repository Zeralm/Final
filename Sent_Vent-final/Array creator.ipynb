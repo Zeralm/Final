{
 "cells": [
  {
   "cell_type": "code",
   "execution_count": 3,
   "metadata": {
    "collapsed": true
   },
   "outputs": [],
   "source": [
    "\"\"\"\n",
    "The following code isolates the 6000 most used words from a sample of 18000 extracted from Twitter API\n",
    "\n",
    "\n",
    "\"\"\"\n",
    "\n",
    "\n",
    "\n",
    "\n",
    "import nltk\n",
    "import matplotlib\n",
    "matplotlib.use('agg')\n",
    "import matplotlib.pyplot as plt\n",
    "import numpy as np\n",
    "import nltk.tokenize\n",
    "import nltk.corpus\n",
    "import nltk.stem.wordnet\n",
    "import itertools\n",
    "import datetime"
   ]
  },
  {
   "cell_type": "code",
   "execution_count": 4,
   "metadata": {
    "collapsed": false,
    "scrolled": true
   },
   "outputs": [
    {
     "name": "stdout",
     "output_type": "stream",
     "text": [
      "['id' 'content' 'company' 'date' 'link' 'retweets' 'foundation']\n"
     ]
    }
   ],
   "source": [
    "from nltk.sentiment.vader import SentimentIntensityAnalyzer\n",
    "import pandas as pd\n",
    "\n",
	"info = pd.read_csv("first_tweets.csv")\n",
    "\n",
    "info.columns = [\"id\",\"content\", \"company\", \"date\", \"link\", \"retweets\", \"foundation\"]\n",
    "print(info.columns.values)\n",
    "#Remember to correct the founding date +47, +47+30...\n",
    "info[\"correct_foundation\"] = pd.to_datetime(info[\"foundation\"]) + datetime.timedelta(47+30)"
   ]
  },
  {
   "cell_type": "code",
   "execution_count": 6,
   "metadata": {
    "collapsed": false
   },
   "outputs": [
    {
     "name": "stdout",
     "output_type": "stream",
     "text": [
      "[nltk_data] Downloading package wordnet to D:...\n",
      "[nltk_data]   Unzipping corpora/wordnet.zip.\n"
     ]
    },
    {
     "data": {
      "text/plain": [
       "True"
      ]
     },
     "execution_count": 6,
     "metadata": {},
     "output_type": "execute_result"
    }
   ],
   "source": [
    "nltk.download(\"wordnet\",\"D:\")"
   ]
  },
  {
   "cell_type": "code",
   "execution_count": 7,
   "metadata": {
    "collapsed": true
   },
   "outputs": [],
   "source": [
    "good_subset = info[pd.to_datetime(info[\"date\"]).apply(lambda t: t.replace(tzinfo=None)) < info[\"correct_foundation\"] - datetime.timedelta(16)]"
   ]
  },
  {
   "cell_type": "code",
   "execution_count": 8,
   "metadata": {
    "collapsed": false
   },
   "outputs": [
    {
     "name": "stdout",
     "output_type": "stream",
     "text": [
      "Conversion begins\n",
      "Empty results dropped\n",
      "Random sample size: 18000\n",
      "Tokenization completed successfully\n",
      "Cleaning successfully performed\n",
      "Transposition successfully performed\n",
      "Nans successfully replaced\n"
     ]
    }
   ],
   "source": [
    "# CONVERSION\n",
    "\n",
    "print(\"Conversion begins\")\n",
    "tweets = good_subset.loc[good_subset[\"content\"] != \"EMPTY_RESULT\"]\n",
    "print(\"Empty results dropped\")\n",
    "#Simplify texts. Lemmatize and so.\n",
    "#Tokenize\n",
    "SAMPLE = tweets[\"content\"].sample(n=18000)\n",
    "print(\"Random sample size: {}\".format(len(SAMPLE)))\n",
    "tokens = pd.Series(map(nltk.tokenize.word_tokenize, SAMPLE))\n",
    "print(\"Tokenization completed successfully\")\n",
    "#Get stop words and substract them\n",
    "stops = nltk.corpus.stopwords.words(\"english\") \n",
    "\n",
    "#Lemmatize    \n",
    "def clean(tokens,stops):\n",
    "    \"\"\"\n",
    "    This function processes one document at a time\n",
    "    \"\"\"\n",
    "    tokens = pd.Series(x for x in tokens if not x in stops)\n",
    "\n",
    "    l = nltk.wordnet.WordNetLemmatizer()\n",
    "    lemmatized = []\n",
    "\n",
    "    for word, tag in nltk.pos_tag(tokens):\n",
    "        if tag.startswith('NN'):\n",
    "            pos = 'n'\n",
    "        elif tag.startswith('VB'):\n",
    "            pos = 'v'\n",
    "        else:\n",
    "            pos = 'a'\n",
    "        lemmatized.append(l.lemmatize(word, pos))\n",
    "    return pd.Series(lemmatized)\n",
    "\n",
    "\n",
    "sentences = pd.Series(map(clean, tokens, itertools.repeat(stops)))\n",
    "print(\"Cleaning successfully performed\")\n",
    "\n",
    "\n",
    "\n",
    "#print(sentences)\n",
    "\n",
    "#Count number of times of lemma in each tweet; all lemmas turn into variables, with the respective nº of times being their values\n",
    "mino = []\n",
    "for i in sentences:\n",
    "    mino.append(dict(i.value_counts()))\n",
    "\n",
    "yaba = pd.DataFrame(mino)\n",
    "print(\"Transposition successfully performed\")\n",
    "data = yaba.fillna(0)\n",
    "print(\"Nans successfully replaced\")"
   ]
  },
  {
   "cell_type": "code",
   "execution_count": 11,
   "metadata": {
    "collapsed": false
   },
   "outputs": [
    {
     "data": {
      "text/plain": [
       "332852"
      ]
     },
     "execution_count": 11,
     "metadata": {},
     "output_type": "execute_result"
    }
   ],
   "source": [
    "U = 0\n",
    "for i in sentences:\n",
    "    U+=len(i)\n",
    "U "
   ]
  },
  {
   "cell_type": "code",
   "execution_count": 29,
   "metadata": {
    "collapsed": true,
    "scrolled": true
   },
   "outputs": [],
   "source": [
    "\n",
    "mentions = pd.DataFrame(data[i].sum() for i in data)\n",
    "mentions.index = data.columns.values\n",
    "#mentions\n",
    "\n",
    "\n",
    "\n",
    "dropbomb = [\":\",\"$\", \"http\", \"#\", \",\", \"Inc.\", \"(\", \")\", \n",
    "\"Inc\", \"?\", \"-\", \".\", \"%\", \"...\", \"&\", \"@\",\n",
    "\"#\",\"|\",\"!\",\"[\",\"]\",\";\",\"Corp\",\"Corp.\",\"'s\",\n",
    "\"I\", \"``\",\"INC\",\"LLC\",\"83\",\"82\",\"+/-\",\"15\",\n",
    "\"LLP\",\"The\",\"“\",\"”\",\"’\",\"--\",\"–\",\"''\",\"This\",\n",
    "\"de\",\"*\", \"INC.\",\">\",\"…\",\"/\", \"At\", \"By\",\"....\",\n",
    "\"Is\",\"To\",\"How\",\"via\",\"say\",\"get\",\"inc\",\"per\",\n",
    "\"Co.\",\"New\", \"A\",\"immy_inc\",\"For\",\"2016\",\"2017\",\n",
    " \"2018\",\"2019\",\"2020\",\"2021\",\"//dailypolitical.com/\",\n",
    " \"//investorshangout.com/post/view\",\n",
    " \"//americanbankingnews.com/\",\"Has\",\"We\",\"See\",\n",
    " \"make\",\"Ltd\",\"An\",\"Will\",\"..\",\"Ltd.\",\"Co\",\"Its\",\"In\",\"It\",\n",
    "\"//app.jobvite.com/m\",\"utm_source=twitter…\",\"What\",\"go\",\n",
    "\"utm_medium=twitter\",\"//investorshub.advfn.com/boards/read_msg.aspx\",\n",
    "\"one\",\"'\",\"n't\",\"With\",\"Of\",\"On\",\"//thelincolnianonline.com/\",\"Tautachrome_Inc\",\n",
    "\"//tickerreport.com/\",\"//dakotafinancialnews.com/\",\"—\",\"And\",\n",
    "\"Press/News\",\"utm_source=dlvr.it\",\"utm_medium=twitter…\",\"//AlertTrade.us\",\n",
    "\"Get\",\"If\",\"You\",\"co\",\"LP\",\"//wkrb13.com/\",\"utm_medium=social\",\"/r/technology\",\"//eluta.ca/search\",\n",
    "\"imo=1…\",\"utm_campaign=twitter\",\"https\",\"Why\",\"//xbrl4.org/regulators/seeReport.jsp\t\",\n",
    "\"Are\",\"Have\",\"Do\",\"As\",\"at=10l8DT…\",\"//thestockobserver.com/\",\"//modernreaders.com/\",\"One\",\"Could\",\"No\",\"adw=1126416…\",\n",
    "\"would\",\"Their\",\"Our\",\"utm_source=twitter\", \"Inc.'s\", \"na\",\"+\",\"inc.\",\"‘\",\"utm_campaign=wp-twitter\", \"All\", \"Two\", \"'re\",\n",
    "\"Be\", \"//mmpconnect.com/\", \"`\", \"My\", \"A9mon-go/id1094591345\", \"Let\", \"//ih.advfn.com/p.php\",\"//10sigma.biz/grafico.php\",\n",
    "\"/PRNewswire/\", \"So\", \"They\", \"´꒳\", \"documentKey=https\", \"//formwhispers.com/s\", \"価格：入手\", \"Go\", \n",
    "\"//itunes.apple.com/jp/app/pok\", \"リリース日：2016年7月21日\", \"w/\", \"THIS\", \"⟶\", \"utm_source=ig_twitter_share\", \n",
    "\"//mideasttime.com/\", \"two\", \"CO\", \"Salesforce.com\", \"AND\", \"01-09-2017\", \"soc_trk=tw…\",\"documentKey=http\",\"•\",\"IN\",\"IS\",\n",
    "\"10,000\",\"LCLP\",\"insticator_inc\",\"'ve\",\"0.03\",\"//online.capitalcube.com/\",\"ネオモンスターズ\",\"リリース日：2015年10月22日\",\n",
    "\"価格：¥120\",\"01-04-2017\",\"//twibble.io\",\"L.P.\",\"//bit.ly/1mDtjp4\",\"吸って、吐いて。\", \"He\", \"//firsttomarkets.com/FTMMobile/\",\n",
    "\"~\", \"-0.11\",\"soc_src=social-sh\",\"//ow.ly/ZIrEy\", \"Most\", \"//otcmarkets.com/filing/html\",\"02-06-2017\",\"co.\",\"s=tnp…\",\n",
    "\"utm_campaign=twitter_automated\",\"source=twitter-bot…\",\"0.11\",\"'ll\",\"St.\",\"CORP.\",\"utm_content=article\",\"of…\",\"=\",\"Inc.http\",\"3.5\",\n",
    "\"Amyris\",\"Deloitte\",\"Depot\",\"Rennova\",\"Microsoft\",\"Petroteq\",\"Cannabis\",\"Clustertruck\",\"cannabis\",\"Airborne\",\"FireEye\",\n",
    "\"Pharma\",\"Marijuana\",\"marijuana\",\"Teladoc\",\"WIRE\",\"RIOT\",\"Alphabet\",\"Uber\",\"Petroleum\",\"Baltia\",\"Apple\",\"Pokémon\",\"Twilio\",\"Ford\",\n",
    "\"Verizon\",\"Rasa\",\"Tabula\",\"Google\",\"PETROTEQ\",\"KaloBios\",\"Yahoo\",\"BioPharma\",\"Pandora\"]\n",
    "\n",
    "\n",
    "\n",
    "\n",
    "mentions = mentions.sort_values(by = 0, ascending = False).drop(dropbomb, axis = 0, errors = \"ignore\")\n",
    "\n",
    "\n",
    "mentions = mentions.iloc[0:25000]\n",
    "cleaned_data = data.loc[:,mentions.index.values]"
   ]
  },
  {
   "cell_type": "code",
   "execution_count": 15,
   "metadata": {
    "collapsed": false
   },
   "outputs": [
    {
     "data": {
      "image/png": "iVBORw0KGgoAAAANSUhEUgAAAZkAAAEZCAYAAABFFVgWAAAABHNCSVQICAgIfAhkiAAAAAlwSFlz\nAAALEgAACxIB0t1+/AAAIABJREFUeJzt3Xl8FeXZ//HPFQUE2QIIyBYigrJUiwuIIsTa4goutYK0\ngEpt/Vmq3QWxgvWpVh9EbS0+LQpFERG1KlIFRA1oEXEBZQcRCLvKKqJAwvX7YyaHk5CEJJzhnITv\n+/U6r8zcM3PPNfc5OdeZezZzd0RERKKQluwARESk8lKSERGRyCjJiIhIZJRkREQkMkoyIiISGSUZ\nERGJjJKMlMjMFppZt2THUdGYWYaZ7TezIv/HKmu7mtkAM3s7bvwrM2uZvIiKF74/JyU7jsru2GQH\nIKVjZquBxkATd98aVz4POB1o6e45h7mOscBad78rv8zdOxxOnUe5Yi9Cq+TtGttud6+VzEAOQRcJ\nHgHak6k4HFgFXJdfYGYdgOron6VIZnZMZVqPlE8J748luD4pgpJMxfIUMCBufAAwLn4GM6tqZiPM\nbI2ZbTSzUWZWLZzW3czWmtlvzGyzma03s+vDaTcBPwb+YGY7zezlsHyVmX0vru6Hw+XWmdlDZlbl\nUHWH0y81s0Vh3WvN7DdFbWDY3fKOmf3NzLab2eL89YfTa5vZ42a2IaznHjOzQsuONLMvgWGF6q5m\nZrvNrF44PtTM9plZzXD8T2Y2Mm49T5rZ52EbDC0ixth6zCwtbPcvzOxT4LKS3shC7TrMzJ41s3Fh\n+ywwszNKWPZhM8sxsx1m9r6ZdY2bdnZYtiN8/0fETetqZv81s23h56N/3Pta5s9MOL2emU0O1zcH\naFUo1liXlJmNNbNHzWxKuJ3vmllm3Lw9zGxpGN/fzSzbzG4spg1K81n8g5ltBMaE5b8PPzfrzOwG\n4n6clbINCtQnpaMkU7HMAWqZ2SkW9PX3BsZT8BfZ/cDJwGnh36bAXXHTGwO1gCbAT4G/m1kddx8N\nPA084O613f2KItZ/J9AprPv0cPjOQ9UdTnscuMndawMdgDdL2M7OwAqgPjAc+LeZ1Q2njQP2AicB\nHYEfhOuKX/ZToCHw5/hK3X0PMBfoHhZ1A1YD54Xj3YHscPjRcFtaAllA//CLqbj1/Ay4NGyXs4Br\nSti+ovQEJgB1gFeAv5cw71yC9yA9XOY5M6saTnsEeNjd6xB84U+C4BgR8Go4vQHwXWB+uEy5PjPh\ntFHAbqARMBAonBQK72X3Jkj+dYGVhO+RmdUHngNuJ3jflwFdSmiD0nwW6wItgJ+Z2cXAb4ALgdbA\n9wvVV5o2iNVXQlxSmLvrVQFeBF1l3wPuAO4FLgKmAccA+4EW4Xy7gMy45boAn4XD3YGvgbS46ZuB\nTuHwWOBPRa03HP4UuChuWo8y1L0auAmodYjtHACsK1T2HsFeVkPgW6Ba3LQ+wJtxy64+RP1/Ah4O\n220j8MuwPasRfFnWJfjxtQc4JW65n5W0HuAN4Gdx4z8A8uLbo4R2HQZMj5vWFvi6DJ+NrcB3wuHs\nsL76heYZDLxQzPLl+syE7bQXaB037c/ArLjx/cBJcZ+vf8ZNuwRYHA73A/5bKK4c4MZiYj7UZ/Fb\noErc9CeAe+PGWxeK7VBtUKA+vUr/0p5MxTMe6AtcDzwZP8HMTgBqAB+a2VYz2wq8RvDLMN8Wd98f\nN74bqFnKdTch+MfPtyYsK03dPyToQlpjZm+Z2TklrGd9ofH89WQAVYCN4fZtA/6P4Jd5vrWH2IaZ\nwAXAGcAnwOsEeyrnACvcfXtY37EcvK1NS1hPk0Jlaw4RR2Gb4oZ3A8dZ8Wem/c6CbsRtYRvU5kAb\nDAROAZaa2Xtmlt9t15xgz6FwXYfzmTmBIFmvi5t2qO0uvJ35n4/C7Uehegs71GfxC3ffV2j+It+f\nUrZB4fqklJRkKhgPziBbRfAr8N+FJn9J8I/b3t3rha+6HnSdlKr6Q0zfQPBFny8jLDt0xe4fuvuV\nBF9MLxN24xSjaaHxFuF61hL8oqwfblt6uH2nlWEbZhN8CV8FzHT3pWH9lxIkIAjacR8Hb2t88iu8\nno0EX+Tx8ydcePzl98A14fanAzsJu0zdfaW793X3E4AHgOfNrDpB251cRJWH85n5gmBvLX67W5Rz\n0wq3H0CzEuZfT8mfxdK8P/nzlKYNdHJNOSnJVEw3EnS1fBNf6MG+/Wjg4fDXGWbW1Mx6lLLezQTH\nOorzDHCnmTUwswbAHwlORiiRmVUxs75mVtvd84CvCL6citPQzH5pZsea2Y+AU4FX3X0TMB14yMxq\nWeAkK8P1JmGbfQj8ggNJZTZwc/54+Kt9EvBnM6sZHs/49SG2dRJwa9je6QTHFg5HcWc+1SJIgFvC\ng9V3hWXBQmY/Dt8bgB0EX477CY63XWhm15jZMeEB+9MP5zMTttMLwHAzq25m7Sh4YkpZ/AfoYGa9\nwvgGERznKc5EyvZZnARcb2ZtzawGccdbEvB/IyVQkqk44q89WOXuHxU1jeDL7VNgjpltJ/hSblOa\negn6rduHXQb/LmL6/wAfEHQzfRwOFzi4XkLd/YBVYUw/I+jyK857BH3mXwL3AD90923htP5AVWAx\nwbGI5wgOypbFTIJunrlx4zWBWXHz3Erw6/azsHy8u48toc7RBMfI8tvlhUPEcKhfxsVNnxa+lhPs\n0e6mYDfQxcAiM9sJPAT0dvc97r6WYG/tdwTtNo/gIDcEx2vK+5n5JUGSyz/rqvCZV6XaA3D3LcCP\ngP8leN9PJWjHPcUsUqbPortPJTgW9yZB271RaJay/t9IKVmQxCOq3OwJ4HJgc6EuDczstwQfqAYe\nXlxoZkMIfqXnAre5+/Sw/AzgX8BxBL9ofxVZ0JJUZjYAGOjule5qeCk9MzOCYzJ93X3moeaX1BX1\nnsxYgrOgCjCzZgRn38QffGsLXEtwZs0lwKjwgwbwGMEXTxugjZkdVKeIVGwWXCdTJ7w+Jf+6pDnJ\njEkOX6RJxt3fAbYVMekhgoOX8a4AJrp7rruvJrhOopOZNSY47fX9cL4ngSsjCllEkqcLwRlwnxOc\niXiFB9c2SQV2xI/JmFkvgvtjLSg0qSkF+5bXh2VNKXgq4zoOPvtIKgl3H6eusqOTu9/t7g3cvY67\nd3H3D5Idkxy+I3qDzPBUyjsIuspERKSSO9J3YW5FcJuOj8PjLc2Aj8ysE8GeS/w59s3CsvUUPL89\nv7xIZqbz2UVEysHdy3XT0JIcie4y48CFYgvdvbG7n+TumQRdXx3d/XNgMtA7PPc/k+DCsbnhtRE7\nzKxTmJj6E1zMV6xk30ahNK9hw4YlPYbKEKPiVJyp/qoocUYl0iRjZhMILnRrY8FdY28oNItzIAEt\nJrhgajHBjfxu8QNb/guCaziWE9z6Y2qUcYuISGJE2l3m7iVdcIe7n1Ro/D7gviLm+xD4TmKjExGR\nqOmK/yTJyspKdgiHVBFiBMWZaIozsSpKnFGJ9Ir/ZDAzr2zbJCISNTPDIzjwf6TPLhNJOS1btmTN\nmrLemV+kYsrIyGD16tVHbH3ak5GjXvgLLtlhiBwRxX3eo9qT0TEZERGJjJKMiIhERklGREQioyQj\nIjF33303/fr1K3b6Y489RuPGjalduzbbthV1g3WRgpRkRFLUX/7yFy699NICZa1bt+ayyy4rUNam\nTRsmTZqUsPUeeIxTQbm5ufz2t79lxowZ7Ny5k/T09IStUyovJRmRFNWtWzfefffd2JlAmzZtIjc3\nl3nz5hUoW7lyJd26lf3pCGU9o27Tpk3s2bOHtm3bFjk9Ly+vzDFI5ackI5Kizj77bPbu3cv8+fMB\nePvtt7ngggs45ZRTCpS1atWKxo0bAzB79mw6depEeno6nTt35t13343Vd8EFF3DnnXfStWtXjj/+\neFatWsXq1avJysqiTp06XHTRRXz55ZdFxrJixQpOPfVUANLT0/n+978PQFpaGqNGjaJNmza0adMG\ngKVLl9KjRw/q169P27Ztee6552L1bN26lV69elGnTh3OOecc7rrrLs4//3wA1qxZQ1paGvv37y8Q\n85gxY2LjY8aMoV27dtSvX59LLrmEnJyc2LS0tDT+8Y9/0KZNG+rVq8egQYMKbMPo0aNp164dtWvX\npkOHDsyfP58RI0ZwzTXXFJjv1ltv5de//vUh3x8ppWTf+TOCO4m6SFmk8mfmggsu8Icfftjd3QcN\nGuRjx471O++8s0DZwIED3d1969atnp6e7k8//bTn5eX5M8884+np6b5161Z3d8/KyvKMjAxfsmSJ\n5+Xl+b59+7xLly7+u9/9zvfu3euzZs3yWrVqeb9+/YqMZfXq1Z6Wlub79++PlZmZ9+jRw7dt2+bf\nfvutf/311968eXMfN26c79+/3+fPn+8NGjTwJUuWuLt77969vXfv3v7NN9/4woULvWnTpn7++ecX\nqD8vLy9Wf1ZWlj/xxBPu7v7SSy9569atfdmyZZ6Xl+d//vOf/dxzzy0QS8+ePX3nzp2ek5PjJ5xw\ngk+bNs3d3SdNmuTNmjXzDz/80N3dV65c6Tk5Ob5x40avWbOm79ixw93dc3NzvWHDhj5v3rzDedtS\nWnGf97A88d/JUVSazFcqf2FIajrUZwYS8yqP4cOH+9VXX+3u7qeffrp/+umnPnXq1AJlTz75pLu7\nP/XUU965c+cCy3fp0sXHjRvn7sEX9rBhw2LTcnJyvEqVKr579+5YWd++fQ+ZZOKTgJl5dnZ2bPzZ\nZ5/1bt26FVju5z//uf/pT3/yvLw8r1Klii9fvjw27Y477ih1krnkkkt8zJgxsWl5eXleo0YNz8nJ\nicUye/bs2PRrr73W77//fnd3v+iii/yvf/1rkdt16aWX+uOPP+7u7q+88oq3b9++yPkqiyOdZNRd\nJnIIiUoz5dGtWzfeeecdtm3bxpdffkmrVq0499xzmT17Ntu2bWPhwoWx4zEbNmwgIyOjwPIZGRms\nX3/gGX/Nmx94/t+GDRtIT0+nevXqBeYvq2bNmsWG16xZw5w5c6hXrx716tUjPT2dCRMmsHnzZr74\n4gtyc3MLzF+W9a1Zs4bbbrstVnf9+vUxswLb16hRo9hwjRo12LVrFwBr166lVatWRdbbv39/xo8f\nD8DTTz9d4tl1UnZKMiIprEuXLmzfvp3Ro0dz3nnnAVCrVi2aNGnC6NGjadq0aeyLukmTJgfdkyon\nJ4emTZvGxuPPHDvxxBPZtm0b33zzTYH5yyq+zubNm5OVlcXWrVvZunUr27ZtY+fOnTz66KOccMIJ\nVKlShbVr1xa5vuOPPx6A3bt3x8o2bdpUoO5//OMfBeretWsX55xzziFjbN68OStXrixy2pVXXskn\nn3zCokWLmDJlCj/+8Y9Lv/FySEoyIinsuOOO46yzzmLkyJGxA+QA5513HiNHjixwVtmll17KihUr\nmDhxInl5eTz77LMsWbKEnj17Fll3ixYtOOussxg2bBj79u3jnXfe4ZVXXikxHj/ELtnll1/O8uXL\nGT9+PLm5uezbt48PPviAZcuWkZaWxtVXX83w4cP55ptvWLx4MePGjYst26BBA5o2bcr48ePZv38/\nY8aMKZAYbr75Zu69914WL14MwI4dO3j++edLjCffT3/6U0aMGMFHH30EwMqVK2MJrlq1avzwhz+k\nb9++dO7cucCelhw+JRmRFNe9e3e++OILunbtGis7//zz+eKLL+jevXusrF69ekyZMoURI0bQoEED\nRowYwX/+85/Y9SxFXf8yYcIE5syZQ/369bnnnnsYMGBAibEUrqPweM2aNZk+fToTJ06kSZMmNGnS\nhMGDB7Nnzx4A/va3v/HVV19x4okncuONN3LjjTcWWH706NE88MADNGjQgCVLlsT23iDY4xg8eDB9\n+vShbt26nHbaaUydeuAhuSXFds011zB06FD69u1L7dq1ueqqqwpcTDpgwAAWLFhA//79S9x+KTvd\nhVmOeroLc/KMGzeOJ554glmzZiU1jrVr19K2bVs2bdpEzZo1kxpL1HQXZhGRI2j//v08+OCD9OnT\np9InmGTQQ8tE5Ki1e/duGjVqRGZmJq+99lqyw6mU1F0mRz11l8nRRN1lIiJSaSjJiIhIZCJNMmb2\nhJltNrNP4soeMLMlZjbfzF4ws9px04aY2Ypweo+48jPM7BMzW25mD0cZs4iIJE7UezJjgYsKlU0H\n2rv7d4EVwBAAM2sHXAu0BS4BRtmBE90fAwa6exugjZkVrlNERFJQpEnG3d8BthUqm+Hu+ffyngPk\nX17bC5jo7rnuvpogAXUys8ZALXd/P5zvSeDKKOMWEZHESPYxmRuBV8PhpsDauGnrw7KmwLq48nVh\nmYikqMzMTN58881ip7/44ou0aNGC2rVr8/HHHx/ByFJD/HNyJkyYwMUXX1yuet55551iHyKXKpJ2\nnYyZDQX2ufszia57+PDhseGsrCyysrISvQqRyO3du5dbbrmFGTNmsG3bNlq1asW9995b4AvpjTfe\nYNCgQaxdu5bOnTszduxYWrRokcSoS+f3v/89o0aN4vLLL092KEnXt29f+vbtW65lu3btypIlS2Lj\nmZmZPPHEE3zve9875LLZ2dlkZ2eXa71lkZQkY2bXA5cC8S2xHmgeN94sLCuuvFjxSUakosrNzaVF\nixa8/fbbNG/enP/85z9ce+21LFy4kBYtWrBlyxZ++MMfMmbMGC6//HLuvPNOevfuXeBpmFHLy8vj\nmGOOKfNya9asoV27dgmtU8qm8A/wu+++O5L1HInuMgtfwYjZxcDvgV7uviduvslAHzOramaZwMnA\nXHffBOwws07hiQD9gZePQNwiSVWjRg3uuuuu2DNgLrvsMjIzM/nwww8B+Pe//02HDh24+uqrqVq1\nKsOHD+fjjz9m+fLlRdaXlZXFiy++CMB///tf0tLSYle5v/nmm3Ts2BEI7rT8P//zP7Rs2ZLGjRtz\n/fXXs3PnTuDAI5LHjBlDRkYGF154IQBPPfUULVu25IQTTuDee+8tdpv27t1LrVq12L9/P6eddhqt\nW7cGgl/gDzzwAKeffjo1a9Zk//79bNy4kWuuuYaGDRvSqlUr/va3v8Xq+fbbb7n++uupV68eHTp0\nYMSIEQWelZOWlsZnn30WG7/hhhu46667YuNTpkyhY8eOpKen07VrVxYsWBCblpmZyYMPPsjpp59O\neno61113HXv37o1Nf/nll+nYsSN16tShdevWTJ8+neeff56zzjqrwLaOHDmSq666qti2yDdu3LgC\nd9hOS0vjscceo02bNtSpU4e77rqLzz77jPPOO4+6devSp08fcnNzAZg5c2Zsu/v3709OTg49e/ak\ndu3ajBgx4pDrPhKiPoV5AjCb4IywHDO7AfgbUBN43cw+MrNRAO6+GJgELCY4TnNL3KX7vwCeAJYD\nK9x9KiJHmc2bN7N8+XI6dOgAwKJFizj99NNj02vUqMHJJ5/MokWLily+e/fuse6RWbNm0apVq9iN\nKWfOnBn7VTt27FiefPJJZs6cyWeffcZXX33FoEGDCtQ1a9Ysli5dyrRp01iyZAm33HILTz/9NBs2\nbGDLli0FHiQWr2rVqnz11Ve4OwsWLGDFihWxaRMnTuS1115j+/btmBk9e/akY8eObNy4kTfeeINH\nHnmE119/HQh6K1atWsWqVauYNm0a48aNK3DX5aLuOJ1v3rx5DBw4kNGjR7N161Z+/vOf06tXL/bt\n2xeb57nnnmP69OmsWrWKjz/+mH/9618AzJ07lwEDBvDggw+yY8cOZs2aRcuWLenVqxerV69m2bJl\nsTrGjx9/yLtaFxfv9OnTmTdvHnPmzOGBBx7g5z//ORMmTGDt2rUsWLCAZ5555qBln3zySVq0aMGU\nKVPYuXMnv/vd70q17qhFfXZZX3dv4u7V3L2Fu49199bunuHuZ4SvW+Lmv8/dT3b3tu4+Pa78Q3f/\nTrjsbVHGLHKQ4cPB7OBXcd2yRc1/mF24ubm5/OQnP+GGG26I/frftWsXderUKTBf7dq1+eqrr4qs\no3v37sycORMIksSQIUNi4zNnzow9NmDChAn85je/ISMjgxo1anDfffcxceJE9u8PTgo1M+6++26q\nV69OtWrVeP755+nZsyfnnXceVapU4Z577inxSz5f4Vub3HbbbTRp0oRq1arx/vvv8+WXXzJ06FCO\nOeYYWrZsyU9/+lMmTpwIBEngzjvvpE6dOjRt2pRbb721xLrjjR49mptvvpmzzjoLM6Nfv35Uq1aN\nOXPmFIilUaNG1K1bl549ezJ//nwAxowZw8CBA2PHPE488UTatGlD1apV6d27d+wJm4sWLWLNmjVc\ndtllh2yHotx+++0cf/zxtG3blg4dOtCjRw8yMjKoVasWl1xyCfPmzSt22VS7RVKyzy4TSX3Dhxf9\nPOWSkkxp5y0Fd+cnP/kJ1apVK9BlVLNmzVg3Vr4dO3ZQq1Yt1q5dS61atahVqxa1awfXO3fp0oXl\ny5fz+eef8/HHH9O/f3/Wrl3Lli1bmDt3bizJFH6Mc0ZGBrm5uWzevDlWFv9grw0bNhToqqpRowb1\n69ePjefHULt2bdatiz9RtKDCj3Fev359gcc433fffXz++eexdR7OY5wffPDBAnWvW7eODRs2xOYp\n72OcJ0yYAAR7Mddeey1VqlQpdVzxGjZsGBuuXr16gXiqV68ei6ci0F2YRVLcwIED+fLLL3n11VcL\nHBBv3759gSdLfv3116xcuZL27dvTvHnzg/ZoqlevzplnnskjjzxChw4dOPbYY+nSpQsjR47k5JNP\njj3crEmTJqxZsya23Jo1a6hSpQqNGjWKPTq58GOcly5dGhvfvXs3W7ZsiY0Xt2dVWOHHOJ900kkF\nup/iNWnSJPYMmPwY49WoUeOgxzjnJ8LmzZszdOhQhgwZUqq44pX0GOfOnTtTtWpV3n77bSZMmFCg\nS+tIKc0e5JGmPRmRFHbzzTezdOlSJk+eTNWqVQtMu+qqq1i0aBEvvvgie/bs4e677+a73/0ubdq0\nKba+bt268eijj8b2WrKysgqMA1x33XU89NBDrF69ml27djF06FD69OlDWlrwdVG4O+aaa65hypQp\nzJ49m3379nHXXXcddpdNp06dqFWrFg888ADffvsteXl5LFq0iA8++ACAH/3oR9x3331s376ddevW\n8eijjxZYvmPHjkyYMIH9+/czderUWLcgwE033cT//d//MXfuXCBIzq+++ipff/31IeMaOHAgY8eO\n5a233sLd2bBhQ4FE2K9fPwYNGkTVqlU599xzD6sNyqNx48YFTnhIBUoyIikqJyeHf/7zn8yfP59G\njRrFup3yfyE3aNCAF154gTvuuIN69erxwQcfxI5ZFKd79+7s2rWLbt26FRiPTzI33ngj/fr1o1u3\nbrRq1YoaNWrw17/+NTa98K/ldu3a8fe//53rrruOJk2aUL9+/QJdWUU51GOc09LSmDJlCvPnzycz\nM5OGDRty0003xboHhw0bRosWLcjMzOTiiy8+6LHJDz/8MJMnTyY9PZ1nnnmmwFleZ555JqNHj2bQ\noEHUq1ePNm3aFNgjLGlv4Oyzz2bs2LH86le/ok6dOmRlZZGTkxOb3q9fPxYuXEi/fv3KtP0lTSvL\n3sngwYO55557qFevHiNHjiz1clHS82TkqKfnyVR8M2fOpF+/fgW+8JPh22+/pVGjRnz00UfFHrtJ\nNj1PRkSkgho1ahRnn312yiaYZNCBfxGRBMjMzATgpZdeSnIkqUXdZXLUU3eZHE3UXSYiIpWGkoyI\niERGSUZERCKjA/9y1MvIyEjJK6VFolCWW/Akgg78i4iIDvyLiEjFoyQjIiKRUZIREZHIKMmIiEhk\nlGRERCQySjIiIhIZJRkREYmMkoyIiERGSUZERCKjJCMiIpGJNMmY2RNmttnMPokrSzez6Wa2zMym\nmVmduGlDzGyFmS0xsx5x5WeY2SdmttzMHo4yZhERSZyo92TGAhcVKhsMzHD3U4A3gSEAZtYOuBZo\nC1wCjLIDdy18DBjo7m2ANmZWuE4REUlBkSYZd38H2Fao+ApgXDg8DrgyHO4FTHT3XHdfDawAOplZ\nY6CWu78fzvdk3DIiIpLCknFMpqG7bwZw901Aw7C8KbA2br71YVlTYF1c+bqwTEREUlwqPE8m4ffl\nHz58eGw4KyuLrKysRK9CRKRCy87OJjs7O/L1RP48GTPLAF5x99PC8SVAlrtvDrvC3nL3tmY2GHB3\nvz+cbyowDFiTP09Y3gfo7u7/r5j16XkyIiJlVJGfJ2PhK99k4PpweADwclx5HzOramaZwMnA3LBL\nbYeZdQpPBOgft4yIiKSwSLvLzGwCkAXUN7Mcgj2TvwDPmdmNBHsp1wK4+2IzmwQsBvYBt8TtkvwC\n+BdwHPCqu0+NMm4REUkMPX5ZREQqdHeZiIgcpZRkREQkMkoyIiISGSUZERGJjJKMiIhERklGREQi\noyQjIiKRUZIREZHIKMmIiEhklGRERCQySjIiIhIZJRkREYmMkoyIiERGSUZERCKjJCMiIpFRkhER\nkcgoyYiISGSUZEREJDJKMiIiEplSJRkz+07UgYiISOVT2j2ZUWY218xuMbM6kUYkIiKVRqmSjLuf\nD/wYaA58aGYTzOwHkUYmIiIVnrl76Wc2Owa4EvgrsBMw4A53/3c04ZWdmXlZtklERMDMcHdLdL2l\nPSZzmpk9BCwBvgf0dPe24fBD5Vmxmf3azBaa2Sdm9rSZVTWzdDObbmbLzGxafNecmQ0xsxVmtsTM\nepRnnSIicmSVak/GzGYCjwPPu/s3hab1c/enyrRSsybAO8Cp7r7XzJ4FXgXaAVvc/QEzux1Id/fB\nZtYOeBo4G2gGzABaF7XLoj0ZEZGyS+qeDHAZMCE/wZhZmpnVAChrgolzDHC8mR0LVAfWA1cA48Lp\n4wi65gB6ARPdPdfdVwMrgE7lXK+IiBwhpU0yMwgSQb4aYVm5uPsG4EEghyC57HD3GUAjd98czrMJ\naBgu0hRYG1fF+rBMRERS2LGlnO84d9+VP+Luu/L3ZMrDzOoS7LVkADuA58zsx0Dhfq5y9XsNHz48\nNpyVlUXqYsLOAAATNElEQVRWVla54hQRqayys7PJzs6OfD2lPSbzX+CX7v5ROH4m8Ki7dynXSs2u\nAS5y95vC8X7AOQQnEmS5+2Yzawy85e5tzWww4O5+fzj/VGCYu79XRN06JiMiUkZRHZMp7Z7Mrwj2\nNjYQnLbcGOh9GOvNAc4xs+OAPcCFwPvALuB64H5gAPByOP9k4OnwDLemwMnA3MNYv4iIHAGlSjLu\n/r6ZnQqcEhYtc/d95V2pu881s+eBecC+8O8/gVrAJDO7EVgDXBvOv9jMJgGLw/lv0e6KiEjqK/XF\nmGZ2LtCSuMTk7k9GE1b5qbtMRKTsktpdZmZPAa2A+UBeWOxAyiUZERFJHaU9JnMW0E67CCIiUhal\nvU5mIcHBfhERkVIr7Z5MA2Cxmc0lOBsMAHfvFUlUIiJSKZQ2yQyPMggREamcynJ2WQbBTSlnhFf7\nH+PuX0UaXTno7DIRkbJL9q3+bwKeB/4RFjUFXkp0MCIiUrmU9sD/L4DzCB5Uhruv4MDNK0VERIpU\n2iSzx9335o+Et+dXn5SIiJSotElmppndAVQ3sx8AzwGvRBeWiIhUBqW9C3MaMBDoQXCDzGnA46l4\nhF0H/kVEyi6qA/+lPrusolCSEREpu2Tfu2wVRRyDcfeTEh2QiIhUHmW5d1m+44AfAfUSH46IiFQm\n5e4uM7MP3f3MBMdz2NRdJiJSdsnuLjsjbjSNYM+mtHtBIiJylCptongwbjgXWE341EoREZHi6Owy\nERFJenfZb0qa7u4jExOOiIhUJmU5u+xsYHI43hOYC6yIIigREakcSnvF/yzgsvxb+5tZLeA/7t4t\n4vjKTN1lIiJll9Rb/QONgL1x43vDMhERkWKVtrvsSWCumb0Yjl8JjIsmJBERqSzK8mTMM4Dzw9FZ\n7j7vsFZsVgd4HOgA7AduBJYDzwIZhKdJu/uOcP4h4Ty5wG3uPr2YetVdJiJSRsnuLgOoAex090eA\ndWaWeZjrfgR41d3bAqcDS4HBwAx3PwV4ExgCYGbtCK7LaQtcAowys4Q3hoiIJFZpH788DLid8Esf\nqAKML+9Kzaw2cL67jwVw99xwj+UKDnTDjSPolgPoBUwM51tNcFZbp/KuX0REjozS7slcRfBF/zWA\nu28Aah3GejOBL81srJl9ZGb/NLMaQCN33xyuYxMHHvHcFFgbt/z6sExERFJYaQ/873V3NzMHMLPj\nE7DeM4BfuPsHZvYQQVdZ4YMp5Tq4Mnz48NhwVlYWWVlZ5YtSRKSSys7OJjs7O/L1lPY6md8BrYEf\nAPcRHICf4O5/K9dKzRoB7+Y/j8bMuhIkmVZAlrtvNrPGwFvu3tbMBgPu7veH808Fhrn7e0XUrQP/\nIiJllPQnY5rZD4h7/LK7v35YKzabCdzk7svDYz41wklb3f1+M7sdSHf3weGB/6eBzgTdZK8DrYvK\nJkoyIiJll7QkY2bHEJzxdUFCV2x2OsEpzFWAz4AbgGOASUBzYA3BKczbw/mHAAOBfegUZhGRhErq\nnoyZvQFcnX/NSipTkhERKbuk3oUZ2AUsMLPXCc8wA3D3WxMdkIiIVB6lTTL/Dl8iIiKlVmJ3mZm1\ncPecIxjPYVN3mYhI2SXrtjIvxQXwQqJXLiIilduhkkx8VjspykBERKTyOVSS8WKGRUREDulQx2Ty\nCM4mM6A6sDt/EsEV+LUjj7CMdExGRKTsknIKs7sfk+gViojI0aMsz5MREREpEyUZERGJjJKMiIhE\nRklGREQioyQjIiKRUZIREZHIKMmIiEhklGRERCQySjIiIhIZJRkREYmMkoyIiERGSUZERCKjJCMi\nIpFRkhERkcgoyYiISGSSmmTMLM3MPjKzyeF4uplNN7NlZjbNzOrEzTvEzFaY2RIz65G8qEVEpLSS\nvSdzG7A4bnwwMMPdTwHeBIYAmFk74FqgLXAJMMrMEv4ENxERSaykJRkzawZcCjweV3wFMC4cHgdc\nGQ73Aia6e667rwZWAJ2OUKgiIlJOydyTeQj4PeBxZY3cfTOAu28CGoblTYG1cfOtD8tERCSFHZuM\nlZrZZcBmd59vZlklzOolTCvW8OHDY8NZWVlkZZW0ChGRo092djbZ2dmRr8fcy/U9fngrNbsX+AmQ\nC1QHagEvAmcBWe6+2cwaA2+5e1szGwy4u98fLj8VGObu7xVRtydjm0REKjIzw90Tfqw7Kd1l7n6H\nu7dw95OAPsCb7t4PeAW4PpxtAPByODwZ6GNmVc0sEzgZmHuEwxYRkTJKSndZCf4CTDKzG4E1BGeU\n4e6LzWwSwZlo+4BbtLsiIpL6ktJdFiV1l4mIlF2l6i4TEZGjg5KMiIhERklGREQioyQjIiKRUZIR\nEZHIKMmIiEhklGRERCQySjIiIhIZJRkREYmMkoyIiERGSUZERCKjJCMiIpFRkhERkcgoyYiISGSU\nZEREJDJKMiIiEhklGRERiYySjIiIREZJRkREIqMkIyIikVGSERGRyCjJiIhIZJRkREQkMklJMmbW\nzMzeNLNFZrbAzG4Ny9PNbLqZLTOzaWZWJ26ZIWa2wsyWmFmPZMQtIiJlY+5+5Fdq1hho7O7zzawm\n8CFwBXADsMXdHzCz24F0dx9sZu2Ap4GzgWbADKC1FxG8mRVVLCIiJTAz3N0SXW9S9mTcfZO7zw+H\ndwFLCJLHFcC4cLZxwJXhcC9gorvnuvtqYAXQ6YgGLSIiZZb0YzJm1hL4LjAHaOTumyFIREDDcLam\nwNq4xdaHZSIiksKOTebKw66y54Hb3H2XmRXu5ypXv9fw4cNjw1lZWWRlZZU3RBGRSik7O5vs7OzI\n15OUYzIAZnYsMAV4zd0fCcuWAFnuvjk8bvOWu7c1s8GAu/v94XxTgWHu/l4R9eqYjIhIGVWqYzKh\nMcDi/AQTmgxcHw4PAF6OK+9jZlXNLBM4GZh7pAIVEZHySdbZZecBs4AFBF1iDtxBkDgmAc2BNcC1\n7r49XGYIMBDYR9C9Nr2Yun3vXqdKlcg3Q0Sk0ohqTyZp3WVRMTPfts2pWzfZkYiIVByVsbssMl9/\nnewIREQEKmmS2bUr2RGIiAhU0iSzc2eyIxAREaikSWb79mRHICIiUEmTzLZtyY5ARERASUZERCKk\nJCMiIpFRkhERkchUyiSzdWuyIxAREaikSWb16mRHICIiUEmTzI4dyY5ARESgkiaZTz9NdgQiIgKV\nNMls2wa7dyc7ChERqZRJJjMT3n032VGIiEilTDLnngszZiQ7ChERqZRJ5sILYdq0ZEchIiKV8qFl\n27cHDy1buBDat092RCIiqU9PxiwlM3N3549/hMWL4YUXkh2RiEjqU5Ippfwks2MHNGgAs2ZBly7J\njkpEJLXp8ctlVKcODBsGP/4xbNyY7GhERI5OlTbJAAwdCr16QefOsHJlsqMRETn6VOokYwYPPww3\n3QTf+Q6MGAG7diU7KhGRo0eFSjJmdrGZLTWz5WZ2e2mX++MfYfLk4CSAOnXguuvgpZfg22+jjFZE\nRCpMkjGzNOBR4CKgPXCdmZ1a5MzNmxd83XAD3/9+cBeATz6Bk06CP/wBelZ/nc1Vm7O1ZnN2pTfn\n24bNyW3SHL/+hqKDeP31g+sO6y/r/NnZ2cXP37Fj2RsoAkXGmIIUZ2IpzsSqKHFG5dhkB1AGnYAV\n7r4GwMwmAlcASw+ac/bsguPHHRcbbN8e/vzn4LV5dVfmvT6bBQtg+XJYsyZ4TMBX44+j6lvQrBlk\nZEDNmtCyJdSwrmTePpuaNaFGDTjxxKDORhnHUb2oiLt2PTiWMJ7sv/+drKysoudPS43cn52dfXCM\nKUhxJpbiTKyKEmdUKlKSaQqsjRtfR5B4Dta8eakqbNSyOhff1JyL48rcYft2+Owz+OILWL8etmyB\nzz+H9d9UZ8aa5rjDqlWwZw/s3Qvr1kGVKsHy+/dDmzb549WpUqU5J510cN5Yvjw4ZlRQdSCIvX59\naNiwVJuBWZAM43LpYWvZEvLyYN++xNUZlfg4jz22qHYVkWSpSEnmiDCD9HQ488zSL7NvX5CcIEhQ\n8adMb9wYlMVzh8cfDxJSUXJzgx2a3NzSrX/HDtiwIXFfrt98EzwuwQz+8pfE1BmlvLwgztzc4Jhb\ngwbJjqhoW7fC+PHJjuLQFGdiVYQ4o/xhVmEuxjSzc4Dh7n5xOD4YcHe/v9B8FWODRERSzFF9xb+Z\nHQMsAy4ENgJzgevcfUlSAxMRkWJVmO4yd88zs0HAdIKz4p5QghERSW0VZk9GREQqntQ4VzYBynuh\nZoJjWG1mH5vZPDObG5alm9l0M1tmZtPMrE7c/EPMbIWZLTGzHnHlZ5jZJ+G2PJyAuJ4ws81m9klc\nWcLiMrOqZjYxXOZdM2uRoBiHmdk6M/sofF0cN+2IxxjW08zM3jSzRWa2wMxuDctTrT0Lx/nLsDyl\n2tTMqpnZe+H/zAIzGxaWp0x7lhBjSrVlXF1pYTyTw/HktqW7V/gXQbL8FMgAqgDzgVOTEMdnQHqh\nsvuBP4TDtwN/CYfbAfMIuixbhvHn71m+B5wdDr8KXHSYcXUFvgt8EkVcwP8DRoXDvYGJCYpxGPCb\nIuZtm4wYw2UbA98Nh2sSHCc8NQXbs7g4U7FNa4R/jwHmEFyakGrtWVSMKdeW4fK/BsYDk1Phfz3y\nL94j8QLOAV6LGx8M3J6EOFYB9QuVLQUahcONgaVFxQi8BnQO51kcV94HeCwBsWVQ8As8YXEBU4HO\n4fAxwBcJinEY8Nsi5ktajEXE8hLw/VRszyLivDCV2xSoAXwAnJ2q7VkoxpRrS6AZ8DqQxYEkk9S2\nrCzdZUVdqNk0CXE48LqZvW9mPw3LGrn7ZgB33wTkX2JZOOb1YVlTgvjzRbUtDRMYV2wZd88DtptZ\nvQTFOcjM5pvZ43G7+SkRo5m1JNj7mkNi3+eExhoX53thUUq1adi9Mw/YBLzu7u+TYu1ZTIyQYm0J\nPAT8nuC7KF9S27KyJJlUcZ67nwFcCvzCzM6n4JtNEeOpIpFxJepc+1HASe7+XYJ/7gcTVC8cZoxm\nVhN4HrjN3XcR7ftc7liLiDPl2tTd97t7R4Jf4Z3MrD0p1p5FxNiOFGtLM7sM2Ozu8w+x/BFty8qS\nZNYD8QegmoVlR5S7bwz/fkHQPdEJ2GxmjQDMrDHweTj7evLvIRPIj7m48kRLZFyxaRZcz1Tb3bce\nboDu/oWH++XAaA7cRiipMZrZsQRf3E+5+8thccq1Z1FxpmqbhrHtBLKBi0nB9iwcYwq25XlALzP7\nDHgG+J6ZPQVsSmZbVpYk8z5wspllmFlVgj7EyUcyADOrEf5qxMyOB3oAC8I4rg9nGwDkfylNBvqE\nZ2tkAicDc8Pd2R1m1snMDOgft8xhhUjBXx2JjGtyWAfAj4A3ExFj+A+R72pgYQrECDCGoM/6kbiy\nVGzPg+JMtTY1swb53UxmVh34AbCEFGrPYmJcmmpt6e53uHsLdz+J4DvwTXfvB7xCMtuyvAfAUu1F\n8OtnGbACGJyE9WcSnNU2jyC5DA7L6wEzwtimA3XjlhlCcEbHEqBHXPmZYR0rgEcSENsEYAOwB8gB\nbgDSExUXUA2YFJbPAVomKMYngU/Cdn2J8OBlsmIM6zkPyIt7rz8KP3sJe58T1J7FxZlSbQp8J4xt\nfhjX0ET/3xxunCXEmFJtWSjm7hw48J/UttTFmCIiEpnK0l0mIiIpSElGREQioyQjIiKRUZIREZHI\nKMmIiEhklGRERCQySjJy1DOzkRbesj8cn2pm/4wbH2FmvzqM+oeZ2W8ON85i6v4qinpFEkVJRgT+\nC5wLEF7h3ABoHzf9XGB2aSoKb7VRZuVdjtS9F54IoCQjAkECOTccbk9we5CvzKxOeJuiUwmu+MbM\n/teCB1d9bGbXhmXdzWyWmb0MLArLhlrwkKhZwClFrdTMxprZY2Y2B7jfzM42s9lm9qGZvWNmrcP5\nBpjZC2b2Wljn/UXU1SBc9pKEtozIYTo22QGIJJu7bzSzfWbWjAN7LU2BLsBOYIG755rZD4HT3P07\nZtYQeN/MZobVdATau3uOmZ0BXAucBlQlSFAfFLP6pu5+DsTumNzV3feb2YXAfcA14XynE9yufx+w\nzMz+6u7rw+UaEtxT6g53P5x7sokknJKMSGA2wf2+ziW4ZXuzcHwHQXca4fgzAO7+uZllEzy86iuC\nGwvmhPOdD7zo7nuAPRY+BrcYz8UN1wWeDPdgnIL/n294cKt+zGwxwQPe1hMksRnAL9z97XJst0ik\n1F0mEsjvMutA0F02h2BPpgvFH4+Jv6v11+Vcb/xy9xDcOfc7QE/guLhpe+KG8ziQgHKBDwlufimS\ncpRkRAKzgcuBrR7YRrBnEZ9k3gZ6W/CUxBMI9ljmFlHXLOBKM6tmZrUIEkZp1ObAcztuKOUyDtwI\nnGpmfyjlMiJHjJKMSGABUB94t1DZdg8fyuTuLxLc2v1jgi6q37v754Urcvd5wLPhvP+h6EQEB58Z\n9r/AX8zsQ0r+34xfzj24lfp1wAVmdnMJy4kccbrVv4iIREZ7MiIiEhklGRERiYySjIiIREZJRkRE\nIqMkIyIikVGSERGRyCjJiIhIZJRkREQkMv8fl1cSwny/BvMAAAAASUVORK5CYII=\n",
      "text/plain": [
       "<matplotlib.figure.Figure at 0x7f2e4f9cde80>"
      ]
     },
     "metadata": {},
     "output_type": "display_data"
    }
   ],
   "source": [
    "mentions[0]\n",
    "%matplotlib inline\n",
    "figu = plt.figure()\n",
    "ax = figu.add_subplot(111)\n",
    "ax.plot(range(len(mentions)),mentions[0])\n",
    "ax.plot([20 for i in range(6000)],color = \"r\",linewidth = 1,linestyle = \"dashed\")\n",
    "ax.set_title(\"Mentions per word in ascending order\")\n",
    "ax.set_xlabel(\"Word rank\")\n",
    "ax.set_ylabel(\"Frequency\")\n",
    "ax.legend([\"Word frequency\",\"20-word-frequency limit\"])\n",
    "plt.show()"
   ]
  },
  {
   "cell_type": "code",
   "execution_count": null,
   "metadata": {
    "collapsed": false
   },
   "outputs": [],
   "source": []
  },
  {
   "cell_type": "code",
   "execution_count": 33,
   "metadata": {
    "collapsed": true
   },
   "outputs": [],
   "source": [
    "pd.Series(mentions.index.values).to_csv(\"WordArray.csv\", index = False, header = [\"Words\"])"
   ]
  },
  {
   "cell_type": "code",
   "execution_count": 32,
   "metadata": {
    "collapsed": false
   },
   "outputs": [
    {
     "data": {
      "text/plain": [
       "0                                  Stock\n",
       "1                                 Energy\n",
       "2                                  stock\n",
       "3                                 Shares\n",
       "4                                  OTCQB\n",
       "5                           Therapeutics\n",
       "6                              Announces\n",
       "7                               Earnings\n",
       "8                                 NASDAQ\n",
       "9                        Pharmaceuticals\n",
       "10                                Health\n",
       "11                          Technologies\n",
       "12                                   SEC\n",
       "13                              Analysts\n",
       "14                                 Group\n",
       "15                                   8-K\n",
       "16                                  News\n",
       "17                              Analysis\n",
       "18                               Million\n",
       "19                                   job\n",
       "20                                Filing\n",
       "21                                   EPS\n",
       "22                                  Form\n",
       "23                                  Live\n",
       "24                                  Home\n",
       "25                            Investment\n",
       "26                               company\n",
       "27                                 Zacks\n",
       "28                               Medical\n",
       "29                                 Sells\n",
       "                      ...               \n",
       "24970                            balloon\n",
       "24971                             espero\n",
       "24972                   balidestinations\n",
       "24973                        esportsjobs\n",
       "24974    大規模侵攻でヒュースの姿を直接見たのって玉狛だけ？もしかして。\n",
       "24975                          essential\n",
       "24976                             bakeré\n",
       "24977                               bajo\n",
       "24978                           axonista\n",
       "24979                             bajaji\n",
       "24980                               bait\n",
       "24981                          baissière\n",
       "24982                     bahnbrechenden\n",
       "24983                            bah_lab\n",
       "24984                             bagian\n",
       "24985                               bado\n",
       "24986                              badly\n",
       "24987                            estetik\n",
       "24988                              badge\n",
       "24989                          estimated\n",
       "24990                       召喚儀式の呪文の様な言葉\n",
       "24991                     especializados\n",
       "24992                           bangettt\n",
       "24993                             bangsa\n",
       "24994                                esp\n",
       "24995                                bat\n",
       "24996                         basketball\n",
       "24997                             basket\n",
       "24998                             erhält\n",
       "24999                       ericswalwell\n",
       "Name: Words, dtype: object"
      ]
     },
     "execution_count": 32,
     "metadata": {},
     "output_type": "execute_result"
    }
   ],
   "source": [
    "pd.read_csv(\"WordArray.csv\")[\"Words\"]"
   ]
  }
 ],
 "metadata": {
  "kernelspec": {
   "display_name": "Python 3",
   "language": "python",
   "name": "python3"
  },
  "language_info": {
   "codemirror_mode": {
    "name": "ipython",
    "version": 3
   },
   "file_extension": ".py",
   "mimetype": "text/x-python",
   "name": "python",
   "nbconvert_exporter": "python",
   "pygments_lexer": "ipython3",
   "version": "3.5.1"
  }
 },
 "nbformat": 4,
 "nbformat_minor": 5
}
